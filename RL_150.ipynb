{
  "nbformat": 4,
  "nbformat_minor": 0,
  "metadata": {
    "colab": {
      "provenance": [],
      "authorship_tag": "ABX9TyPzpw8VO1K9gr3Fx3lhRCE7",
      "include_colab_link": true
    },
    "kernelspec": {
      "name": "python3",
      "display_name": "Python 3"
    },
    "language_info": {
      "name": "python"
    }
  },
  "cells": [
    {
      "cell_type": "markdown",
      "metadata": {
        "id": "view-in-github",
        "colab_type": "text"
      },
      "source": [
        "<a href=\"https://colab.research.google.com/github/Akshithaaa11/Assignments/blob/main/RL_150.ipynb\" target=\"_parent\"><img src=\"https://colab.research.google.com/assets/colab-badge.svg\" alt=\"Open In Colab\"/></a>"
      ]
    },
    {
      "cell_type": "code",
      "execution_count": 3,
      "metadata": {
        "id": "eoe-xvj23_Gd",
        "colab": {
          "base_uri": "https://localhost:8080/"
        },
        "outputId": "dec6f34d-4e22-4bf7-9b56-371d79e92ca3"
      },
      "outputs": [
        {
          "output_type": "stream",
          "name": "stdout",
          "text": [
            "Total Reward: 940\n",
            "Estimated Action Values: [0.14285714 0.97941176 0.86896552 0.99226804 0.83185841]\n",
            "Action Counts: [ 14. 340. 145. 388. 113.]\n"
          ]
        }
      ],
      "source": [
        "#1]\n",
        "import numpy as np\n",
        "\n",
        "# Simulating the game environment\n",
        "class GameEnvironment:\n",
        "    def __init__(self, n_actions):\n",
        "        self.n_actions = n_actions\n",
        "        self.probabilities = np.random.rand(n_actions)  # Hidden reward probabilities\n",
        "\n",
        "    def play(self, action):\n",
        "        return 1 if np.random.rand() < self.probabilities[action] else 0\n",
        "\n",
        "\n",
        "# UCB Algorithm\n",
        "class UCB:\n",
        "    def __init__(self, n_actions):\n",
        "        self.n_actions = n_actions\n",
        "        self.counts = np.zeros(n_actions)  # Number of times each action is chosen\n",
        "        self.values = np.zeros(n_actions)  # Average reward for each action\n",
        "\n",
        "    def select_action(self, t):\n",
        "        if t < self.n_actions:\n",
        "            return t  # Ensure each action is tried at least once\n",
        "        ucb_values = self.values + np.sqrt((2 * np.log(t)) / (self.counts + 1e-5))\n",
        "        return np.argmax(ucb_values)\n",
        "\n",
        "    def update(self, action, reward):\n",
        "        self.counts[action] += 1\n",
        "        self.values[action] += (reward - self.values[action]) / self.counts[action]\n",
        "\n",
        "\n",
        "# Simulation\n",
        "def simulate_game(n_actions, n_rounds):\n",
        "    game = GameEnvironment(n_actions)\n",
        "    ucb = UCB(n_actions)\n",
        "    total_reward = 0\n",
        "\n",
        "    for t in range(n_rounds):\n",
        "        action = ucb.select_action(t)\n",
        "        reward = game.play(action)\n",
        "        ucb.update(action, reward)\n",
        "        total_reward += reward\n",
        "\n",
        "    print(f\"Total Reward: {total_reward}\")\n",
        "    print(f\"Estimated Action Values: {ucb.values}\")\n",
        "    print(f\"Action Counts: {ucb.counts}\")\n",
        "\n",
        "simulate_game(n_actions=5, n_rounds=1000)\n"
      ]
    },
    {
      "cell_type": "code",
      "source": [
        "#2]\n",
        "import numpy as np\n",
        "class IoTEnvironment:\n",
        "    def __init__(self, n_devices):\n",
        "        self.n_devices = n_devices\n",
        "        self.efficiency = np.random.rand(n_devices)  # Varying efficiency of devices\n",
        "\n",
        "    def use_device(self, device):\n",
        "        return self.efficiency[device] + np.random.normal(0, 0.1)  # Add randomness\n",
        "class IoTUCB:\n",
        "    def __init__(self, n_devices):\n",
        "        self.n_devices = n_devices\n",
        "        self.counts = np.zeros(n_devices)  # Number of times each device is chosen\n",
        "        self.values = np.zeros(n_devices)  # Average efficiency of each device\n",
        "\n",
        "    def select_device(self, t):\n",
        "        if t < self.n_devices:\n",
        "            return t  # Ensure each device is tried at least once\n",
        "        ucb_values = self.values + np.sqrt((2 * np.log(t)) / (self.counts + 1e-5))\n",
        "        return np.argmax(ucb_values)\n",
        "\n",
        "    def update(self, device, reward):\n",
        "        self.counts[device] += 1\n",
        "        self.values[device] += (reward - self.values[device]) / self.counts[device]\n",
        "\n",
        "\n",
        "# Simulation\n",
        "def optimize_energy(n_devices, n_iterations):\n",
        "    environment = IoTEnvironment(n_devices)\n",
        "    ucb = IoTUCB(n_devices)\n",
        "\n",
        "    for t in range(n_iterations):\n",
        "        device = ucb.select_device(t)\n",
        "        efficiency = environment.use_device(device)\n",
        "        ucb.update(device, efficiency)\n",
        "\n",
        "    print(f\"Estimated Device Efficiencies: {ucb.values}\")\n",
        "    print(f\"Device Usage Counts: {ucb.counts}\")\n",
        "\n",
        "optimize_energy(n_devices=3, n_iterations=500)\n"
      ],
      "metadata": {
        "colab": {
          "base_uri": "https://localhost:8080/"
        },
        "id": "-1PvP2Ms8pIz",
        "outputId": "549766a7-e7aa-4b2e-d18e-f53c16779843"
      },
      "execution_count": 2,
      "outputs": [
        {
          "output_type": "stream",
          "name": "stdout",
          "text": [
            "Estimated Device Efficiencies: [0.74688353 0.58691404 0.91308495]\n",
            "Device Usage Counts: [ 99.  48. 353.]\n"
          ]
        }
      ]
    },
    {
      "cell_type": "code",
      "source": [
        "#3]\n",
        "import numpy as np\n",
        "from sklearn.tree import DecisionTreeClassifier\n",
        "from sklearn.model_selection import train_test_split\n",
        "from sklearn.metrics import accuracy_score\n",
        "\n",
        "# Generating simplified board states\n",
        "def generate_board_states(n_samples):\n",
        "    X = []\n",
        "    y = []\n",
        "    for _ in range(n_samples):\n",
        "        board = np.random.choice([0, 1], size=(4, 4))  # 0: empty, 1: pawn\n",
        "        king_position = (np.random.randint(4), np.random.randint(4))\n",
        "        board[king_position] = 2  # 2: king\n",
        "        X.append(board.flatten())  # Flatten board state\n",
        "        y.append(np.random.choice([\"move_left\", \"move_right\", \"move_up\", \"move_down\"]))  # Random optimal move\n",
        "    return np.array(X), np.array(y)\n",
        "\n",
        "# Generate dataset\n",
        "X, y = generate_board_states(1000)\n",
        "\n",
        "# Split data into training and testing sets\n",
        "X_train, X_test, y_train, y_test = train_test_split(X, y, test_size=0.2, random_state=42)\n",
        "\n",
        "# Train a decision tree classifier\n",
        "clf = DecisionTreeClassifier(max_depth=5)\n",
        "clf.fit(X_train, y_train)\n",
        "\n",
        "# Evaluate the model\n",
        "y_pred = clf.predict(X_test)\n",
        "accuracy = accuracy_score(y_test, y_pred)\n",
        "print(f\"Model Accuracy: {accuracy:.2f}\")\n",
        "\n",
        "# Test on a new board state\n",
        "test_board = np.random.choice([0, 1], size=(4, 4))\n",
        "king_position = (np.random.randint(4), np.random.randint(4))\n",
        "test_board[king_position] = 2\n",
        "print(\"Test Board:\")\n",
        "print(test_board)\n",
        "\n",
        "prediction = clf.predict([test_board.flatten()])\n",
        "print(f\"Predicted Move: {prediction[0]}\")\n"
      ],
      "metadata": {
        "colab": {
          "base_uri": "https://localhost:8080/"
        },
        "id": "WPXtI0euC8RO",
        "outputId": "6f8ff7b2-d80d-4b4f-b4ab-67674bccac0e"
      },
      "execution_count": 4,
      "outputs": [
        {
          "output_type": "stream",
          "name": "stdout",
          "text": [
            "Model Accuracy: 0.29\n",
            "Test Board:\n",
            "[[1 0 0 0]\n",
            " [1 1 0 1]\n",
            " [2 1 0 1]\n",
            " [0 0 1 0]]\n",
            "Predicted Move: move_down\n"
          ]
        }
      ]
    },
    {
      "cell_type": "code",
      "source": [],
      "metadata": {
        "id": "cN39my51C7I0"
      },
      "execution_count": null,
      "outputs": []
    }
  ]
}